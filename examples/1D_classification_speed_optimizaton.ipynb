{
 "cells": [
  {
   "cell_type": "code",
   "execution_count": 22,
   "metadata": {},
   "outputs": [],
   "source": [
    "import numpy as np\n",
    "\n",
    "from sklearn import svm\n",
    "from sklearn.metrics import accuracy_score\n",
    "from scipy.stats import mannwhitneyu, wilcoxon, binom\n",
    "\n",
    "def classification_accuracy_weighted(a, b):\n",
    "    '''\n",
    "    Computes best accuracy of classifying between scalar variables using a separating line\n",
    "    Compensates for disbalances in samples - aims to recover separability of equal classes\n",
    "\n",
    "    :param a: 1D numpy array of floats\n",
    "    :param b: 1D numpy array of floats\n",
    "    :return: scalar measure of accuracy in percent\n",
    "    '''\n",
    "\n",
    "    aEff = a[~np.isnan(a)]\n",
    "    bEff = b[~np.isnan(b)]\n",
    "\n",
    "    Na = len(aEff)\n",
    "    Nb = len(bEff)\n",
    "    assert (Na > 0) and (Nb > 0)\n",
    "\n",
    "    x = np.hstack([aEff, bEff])[:, None]\n",
    "    y = [0] * Na + [1] * Nb\n",
    "    w = [Nb] * Na + [Na] * Nb\n",
    "    clf = svm.SVC()\n",
    "    clf.fit(x, y, sample_weight=w)\n",
    "    yHat = clf.predict(x)\n",
    "    return accuracy_score(y, yHat)\n",
    "\n",
    "def classification_accuracy_weighted_handmade(a, b, alternative='greater'):\n",
    "    if alternative == 'greater':\n",
    "        nX = len(a)\n",
    "        nY = len(b)\n",
    "        \n",
    "        aEff = a[a < np.max(b)]\n",
    "        acc = [(np.sum(a >= t) / nX + np.sum(b < t) / nY) / 2 for t in aEff]\n",
    "        return np.max(acc)\n",
    "    if alternative == 'lesser':\n",
    "        return classification_accuracy_weighted_handmade(b, a, alternative='greater')\n",
    "    elif alternative == 'two-sided':\n",
    "        acc1 = classification_accuracy_weighted_handmade(a, b, alternative='greater')\n",
    "        acc2 = classification_accuracy_weighted_handmade(b, a, alternative='greater')\n",
    "        return max(acc1, acc2)"
   ]
  },
  {
   "cell_type": "code",
   "execution_count": 17,
   "metadata": {},
   "outputs": [],
   "source": [
    "x = np.random.normal(0, 1, 1000)\n",
    "y = np.random.normal(1, 1, 1000)"
   ]
  },
  {
   "cell_type": "code",
   "execution_count": 18,
   "metadata": {},
   "outputs": [
    {
     "name": "stdout",
     "output_type": "stream",
     "text": [
      "3.29 s ± 149 ms per loop (mean ± std. dev. of 7 runs, 1 loop each)\n"
     ]
    }
   ],
   "source": [
    "%%timeit\n",
    "classification_accuracy_weighted(x, y)"
   ]
  },
  {
   "cell_type": "code",
   "execution_count": 23,
   "metadata": {},
   "outputs": [
    {
     "name": "stdout",
     "output_type": "stream",
     "text": [
      "18.4 ms ± 1.13 ms per loop (mean ± std. dev. of 7 runs, 100 loops each)\n"
     ]
    }
   ],
   "source": [
    "%%timeit\n",
    "classification_accuracy_weighted_handmade(y, x)"
   ]
  },
  {
   "cell_type": "code",
   "execution_count": null,
   "metadata": {},
   "outputs": [],
   "source": []
  }
 ],
 "metadata": {
  "kernelspec": {
   "display_name": "py3ml",
   "language": "python",
   "name": "py3ml"
  },
  "language_info": {
   "codemirror_mode": {
    "name": "ipython",
    "version": 3
   },
   "file_extension": ".py",
   "mimetype": "text/x-python",
   "name": "python",
   "nbconvert_exporter": "python",
   "pygments_lexer": "ipython3",
   "version": "3.8.5"
  }
 },
 "nbformat": 4,
 "nbformat_minor": 4
}
