{
 "cells": [
  {
   "cell_type": "code",
   "execution_count": 3,
   "metadata": {},
   "outputs": [],
   "source": [
    "import numpy as np\n",
    "import matplotlib.pyplot as plt\n",
    "from scipy.ndimage import gaussian_filter"
   ]
  },
  {
   "cell_type": "markdown",
   "metadata": {},
   "source": [
    "### Main idea\n",
    "\n",
    "$$\n",
    "\\begin{eqnarray}\n",
    "y &\\approx& \\alpha G(x) \\\\\n",
    "-2\\log y &\\approx& \\frac{x^2}{\\sigma^2} - \\frac{2x\\mu}{\\sigma^2} + K(\\alpha, \\mu, \\sigma^2) \\\\\n",
    "A,B,C &=& \\mathrm{polyfit}_2(x, y) \\\\\n",
    "\\sigma^2 &\\approx& \\frac{1}{A} \\\\\n",
    "\\mu &\\approx& \\frac{B}{2A}\n",
    "\\end{eqnarray}$$"
   ]
  },
  {
   "cell_type": "code",
   "execution_count": 7,
   "metadata": {},
   "outputs": [
    {
     "data": {
      "text/plain": [
       "array([1.76218327e-15, 2.00000000e+00, 1.00000000e+00])"
      ]
     },
     "execution_count": 7,
     "metadata": {},
     "output_type": "execute_result"
    }
   ],
   "source": [
    "x = np.random.uniform(0, 1, 100)\n",
    "y = 2 * x + 1\n",
    "np.polyfit(x, y, 2)"
   ]
  },
  {
   "cell_type": "code",
   "execution_count": 8,
   "metadata": {},
   "outputs": [],
   "source": [
    "def fit_gaussian_quadratic(x, y):\n",
    "    yMin = np.min(y)\n",
    "    yMax = np.max(y)\n",
    "    delta = yMax-yMin\n",
    "    yThr = y - yMin + 0.01*delta\n",
    "    negll2 = -2.0*np.log(yThr)\n",
    "    a,b,c = np.polyfit(x, negll2, 2)\n",
    "    return b/(2.0*a), 1.0/a"
   ]
  },
  {
   "cell_type": "code",
   "execution_count": 19,
   "metadata": {},
   "outputs": [
    {
     "name": "stdout",
     "output_type": "stream",
     "text": [
      "True 30 25\n",
      "Src (-32.757778375604985, 748.3529671572746)\n",
      "Noise (-32.83405714835245, 1158.55859516248)\n",
      "Filter (-29.922249207562512, 766.3754339657943)\n"
     ]
    },
    {
     "data": {
      "image/png": "[encoded data removed]",
      "text/plain": [
       "<Figure size 432x288 with 1 Axes>"
      ]
     },
     "metadata": {
      "needs_background": "light"
     },
     "output_type": "display_data"
    }
   ],
   "source": [
    "gau = lambda mu, s2: np.exp(-(mu**2)/s2/2) / np.sqrt(2 * np.pi * s2)\n",
    "\n",
    "muTrue = 30\n",
    "s2True = 5**2\n",
    "\n",
    "x = np.linspace(0, 100, 100)\n",
    "y = gau(x - muTrue, s2True)\n",
    "ynoisy = y + np.random.normal(0, 0.001, 100)\n",
    "\n",
    "stdFilter = 5\n",
    "yfiltered = gaussian_filter(ynoisy, stdFilter)\n",
    "\n",
    "print(\"True\", muTrue, s2True)\n",
    "print(\"Src\", fit_gaussian_quadratic(x, y))\n",
    "print(\"Noise\", fit_gaussian_quadratic(x, ynoisy))\n",
    "print(\"Filter\", fit_gaussian_quadratic(x, yfiltered))\n",
    "\n",
    "plt.figure()\n",
    "plt.plot(x, y)\n",
    "plt.plot(x, ynoisy)\n",
    "plt.plot(x, yfiltered)\n",
    "plt.show()\n"
   ]
  },
  {
   "cell_type": "code",
   "execution_count": null,
   "metadata": {},
   "outputs": [],
   "source": []
  }
 ],
 "metadata": {
  "kernelspec": {
   "display_name": "Python 3 (qt5)",
   "language": "python",
   "name": "myenv"
  },
  "language_info": {
   "codemirror_mode": {
    "name": "ipython",
    "version": 3
   },
   "file_extension": ".py",
   "mimetype": "text/x-python",
   "name": "python",
   "nbconvert_exporter": "python",
   "pygments_lexer": "ipython3",
   "version": "3.7.6"
  }
 },
 "nbformat": 4,
 "nbformat_minor": 2
}
