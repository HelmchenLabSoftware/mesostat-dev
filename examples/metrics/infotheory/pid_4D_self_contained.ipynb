{
 "cells": [
  {
   "cell_type": "code",
   "execution_count": 1,
   "metadata": {
    "collapsed": true
   },
   "outputs": [],
   "source": [
    "# Import classes\n",
    "import numpy as np\n",
    "import pandas as pd\n",
    "from idtxl.multivariate_pid import MultivariatePID\n",
    "from idtxl.data import Data"
   ]
  },
  {
   "cell_type": "code",
   "execution_count": 2,
   "metadata": {},
   "outputs": [
    {
     "name": "stdout",
     "output_type": "stream",
     "text": [
      "Adding data with properties: 4 processes, 8 samples, 1 replications\n",
      "overwriting existing data\n"
     ]
    }
   ],
   "source": [
    "# Three bits hash\n",
    "s1 = np.asarray([0, 0, 0, 0, 1, 1, 1, 1])\n",
    "s2 = np.asarray([0, 0, 1, 1, 0, 0, 1, 1])\n",
    "s3 = np.asarray([0, 1, 0, 1, 0, 1, 0, 1])\n",
    "z  = np.asarray([0, 1, 1, 0, 1, 0, 0, 1])\n",
    "data = Data(np.vstack((s1, s2, s3, z)), 'ps', normalise=False)"
   ]
  },
  {
   "cell_type": "code",
   "execution_count": null,
   "metadata": {
    "collapsed": true
   },
   "outputs": [],
   "source": [
    "pid = MultivariatePID()\n",
    "settings_SxPID = {'pid_estimator': 'SxPID', 'lags_pid': [0, 0, 0]}\n",
    "results_SxPID = pid.analyse_single_target(settings=settings_SxPID, data=data, target=3, sources=[0, 1, 2])\n",
    "rez_avg = results_SxPID.get_single_target(3)['avg']"
   ]
  },
  {
   "cell_type": "code",
   "execution_count": 4,
   "metadata": {},
   "outputs": [
    {
     "data": {
      "text/html": [
       "<div>\n",
       "<style scoped>\n",
       "    .dataframe tbody tr th:only-of-type {\n",
       "        vertical-align: middle;\n",
       "    }\n",
       "\n",
       "    .dataframe tbody tr th {\n",
       "        vertical-align: top;\n",
       "    }\n",
       "\n",
       "    .dataframe thead th {\n",
       "        text-align: right;\n",
       "    }\n",
       "</style>\n",
       "<table border=\"1\" class=\"dataframe\">\n",
       "  <thead>\n",
       "    <tr style=\"text-align: right;\">\n",
       "      <th></th>\n",
       "      <th>PID</th>\n",
       "      <th>value</th>\n",
       "    </tr>\n",
       "  </thead>\n",
       "  <tbody>\n",
       "    <tr>\n",
       "      <th>0</th>\n",
       "      <td>((1,),)</td>\n",
       "      <td>0.321928</td>\n",
       "    </tr>\n",
       "    <tr>\n",
       "      <th>1</th>\n",
       "      <td>((2,),)</td>\n",
       "      <td>0.321928</td>\n",
       "    </tr>\n",
       "    <tr>\n",
       "      <th>2</th>\n",
       "      <td>((3,),)</td>\n",
       "      <td>0.321928</td>\n",
       "    </tr>\n",
       "    <tr>\n",
       "      <th>3</th>\n",
       "      <td>((1, 2),)</td>\n",
       "      <td>0.169925</td>\n",
       "    </tr>\n",
       "    <tr>\n",
       "      <th>4</th>\n",
       "      <td>((1, 3),)</td>\n",
       "      <td>0.169925</td>\n",
       "    </tr>\n",
       "    <tr>\n",
       "      <th>5</th>\n",
       "      <td>((2, 3),)</td>\n",
       "      <td>0.169925</td>\n",
       "    </tr>\n",
       "    <tr>\n",
       "      <th>6</th>\n",
       "      <td>((1, 2, 3),)</td>\n",
       "      <td>0.245112</td>\n",
       "    </tr>\n",
       "    <tr>\n",
       "      <th>7</th>\n",
       "      <td>((1,), (2,))</td>\n",
       "      <td>-0.192645</td>\n",
       "    </tr>\n",
       "    <tr>\n",
       "      <th>8</th>\n",
       "      <td>((1,), (3,))</td>\n",
       "      <td>-0.192645</td>\n",
       "    </tr>\n",
       "    <tr>\n",
       "      <th>9</th>\n",
       "      <td>((1,), (2, 3))</td>\n",
       "      <td>-0.129283</td>\n",
       "    </tr>\n",
       "    <tr>\n",
       "      <th>10</th>\n",
       "      <td>((2,), (3,))</td>\n",
       "      <td>-0.192645</td>\n",
       "    </tr>\n",
       "    <tr>\n",
       "      <th>11</th>\n",
       "      <td>((2,), (1, 3))</td>\n",
       "      <td>-0.129283</td>\n",
       "    </tr>\n",
       "    <tr>\n",
       "      <th>12</th>\n",
       "      <td>((3,), (1, 2))</td>\n",
       "      <td>-0.129283</td>\n",
       "    </tr>\n",
       "    <tr>\n",
       "      <th>13</th>\n",
       "      <td>((1, 2), (1, 3))</td>\n",
       "      <td>0.093109</td>\n",
       "    </tr>\n",
       "    <tr>\n",
       "      <th>14</th>\n",
       "      <td>((1, 2), (2, 3))</td>\n",
       "      <td>0.093109</td>\n",
       "    </tr>\n",
       "    <tr>\n",
       "      <th>15</th>\n",
       "      <td>((1, 3), (2, 3))</td>\n",
       "      <td>0.093109</td>\n",
       "    </tr>\n",
       "    <tr>\n",
       "      <th>16</th>\n",
       "      <td>((1,), (2,), (3,))</td>\n",
       "      <td>0.192645</td>\n",
       "    </tr>\n",
       "    <tr>\n",
       "      <th>17</th>\n",
       "      <td>((1, 2), (1, 3), (2, 3))</td>\n",
       "      <td>-0.226861</td>\n",
       "    </tr>\n",
       "  </tbody>\n",
       "</table>\n",
       "</div>"
      ],
      "text/plain": [
       "                         PID     value\n",
       "0                    ((1,),)  0.321928\n",
       "1                    ((2,),)  0.321928\n",
       "2                    ((3,),)  0.321928\n",
       "3                  ((1, 2),)  0.169925\n",
       "4                  ((1, 3),)  0.169925\n",
       "5                  ((2, 3),)  0.169925\n",
       "6               ((1, 2, 3),)  0.245112\n",
       "7               ((1,), (2,)) -0.192645\n",
       "8               ((1,), (3,)) -0.192645\n",
       "9             ((1,), (2, 3)) -0.129283\n",
       "10              ((2,), (3,)) -0.192645\n",
       "11            ((2,), (1, 3)) -0.129283\n",
       "12            ((3,), (1, 2)) -0.129283\n",
       "13          ((1, 2), (1, 3))  0.093109\n",
       "14          ((1, 2), (2, 3))  0.093109\n",
       "15          ((1, 3), (2, 3))  0.093109\n",
       "16        ((1,), (2,), (3,))  0.192645\n",
       "17  ((1, 2), (1, 3), (2, 3)) -0.226861"
      ]
     },
     "execution_count": 4,
     "metadata": {},
     "output_type": "execute_result"
    }
   ],
   "source": [
    "combs = [str(k) for k in rez_avg.keys()]\n",
    "vals = [v[2] for v in rez_avg.values()]\n",
    "pd.DataFrame({'PID' : combs, 'value' : vals})"
   ]
  },
  {
   "cell_type": "code",
   "execution_count": null,
   "metadata": {
    "collapsed": true
   },
   "outputs": [],
   "source": []
  }
 ],
 "metadata": {
  "kernelspec": {
   "display_name": "Py3QT5",
   "language": "python",
   "name": "py3qt5"
  },
  "language_info": {
   "codemirror_mode": {
    "name": "ipython",
    "version": 3
   },
   "file_extension": ".py",
   "mimetype": "text/x-python",
   "name": "python",
   "nbconvert_exporter": "python",
   "pygments_lexer": "ipython3",
   "version": "3.8.5"
  }
 },
 "nbformat": 4,
 "nbformat_minor": 2
}
