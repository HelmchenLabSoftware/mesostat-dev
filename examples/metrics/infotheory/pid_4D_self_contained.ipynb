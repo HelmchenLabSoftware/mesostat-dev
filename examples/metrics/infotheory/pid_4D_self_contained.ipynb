{
 "cells": [
  {
   "cell_type": "code",
   "execution_count": null,
   "metadata": {},
   "outputs": [],
   "source": [
    "# Import classes\n",
    "import numpy as np\n",
    "import pandas as pd\n",
    "from idtxl.multivariate_pid import MultivariatePID\n",
    "from idtxl.bivariate_pid import BivariatePID\n",
    "from idtxl.data import Data\n",
    "\n",
    "%load_ext autoreload\n",
    "%autoreload 2"
   ]
  },
  {
   "cell_type": "code",
   "execution_count": null,
   "metadata": {},
   "outputs": [],
   "source": [
    "# Three bits hash\n",
    "s1 = np.asarray([0, 0, 0, 0, 1, 1, 1, 1])\n",
    "s2 = np.asarray([0, 0, 1, 1, 0, 0, 1, 1])\n",
    "s3 = np.asarray([0, 1, 0, 1, 0, 1, 0, 1])\n",
    "z  = np.asarray([0, 1, 1, 0, 1, 0, 0, 1])\n",
    "data = Data(np.vstack((s1, s2, s3, z)), 'ps', normalise=False)"
   ]
  },
  {
   "cell_type": "code",
   "execution_count": null,
   "metadata": {},
   "outputs": [],
   "source": [
    "pid = MultivariatePID()\n",
    "settings_SxPID = {'pid_estimator': 'SxPID', 'lags_pid': [0, 0, 0]}\n",
    "results_SxPID = pid.analyse_single_target(settings=settings_SxPID, data=data, target=3, sources=[0, 1, 2])\n",
    "rez_avg = results_SxPID.get_single_target(3)['avg']"
   ]
  },
  {
   "cell_type": "code",
   "execution_count": null,
   "metadata": {
    "scrolled": true
   },
   "outputs": [],
   "source": [
    "combs = [str(k) for k in rez_avg.keys()]\n",
    "vals = [v[2] for v in rez_avg.values()]\n",
    "pd.DataFrame({'PID' : combs, 'value' : vals})"
   ]
  },
  {
   "cell_type": "code",
   "execution_count": null,
   "metadata": {
    "scrolled": true
   },
   "outputs": [],
   "source": [
    "aaa = np.random.randint(0, 4, (3967, 27, 1))\n",
    "data = Data(aaa, 'rps', normalise=False)\n",
    "\n",
    "pid = MultivariatePID()\n",
    "settings_SxPID = {'pid_estimator': 'SxPID', 'lags_pid': [0, 0, 0]}\n",
    "results_SxPID = pid.analyse_single_target(settings=settings_SxPID, data=data, target=3, sources=(0, 1, 2))\n",
    "results_SxPID.get_single_target(3)['avg']"
   ]
  },
  {
   "cell_type": "code",
   "execution_count": null,
   "metadata": {},
   "outputs": [],
   "source": [
    "aaa.dtype"
   ]
  },
  {
   "cell_type": "markdown",
   "metadata": {},
   "source": [
    "### From Data"
   ]
  },
  {
   "cell_type": "code",
   "execution_count": null,
   "metadata": {},
   "outputs": [],
   "source": [
    "from mesostat.metric.idtxl_pid import multivariate_pid_3D, bivariate_pid_3D, multivariate_pid_4D"
   ]
  },
  {
   "cell_type": "code",
   "execution_count": null,
   "metadata": {},
   "outputs": [],
   "source": [
    "dataOrig = np.load('test.npy')\n",
    "dataOrig.shape"
   ]
  },
  {
   "cell_type": "markdown",
   "metadata": {},
   "source": [
    "### Bivariate 3D - Explicit"
   ]
  },
  {
   "cell_type": "code",
   "execution_count": null,
   "metadata": {},
   "outputs": [],
   "source": [
    "data = Data(dataOrig, 'rps', normalise=False)\n",
    "\n",
    "pid = BivariatePID()\n",
    "settings = {'pid_estimator': 'TartuPID', 'lags_pid': [0, 0]}\n",
    "results = pid.analyse_single_target(settings=settings, data=data, target=2, sources=(0, 1))\n",
    "results.get_single_target(2)"
   ]
  },
  {
   "cell_type": "markdown",
   "metadata": {},
   "source": [
    "### Bivariate 3D - Implicit"
   ]
  },
  {
   "cell_type": "code",
   "execution_count": null,
   "metadata": {},
   "outputs": [],
   "source": [
    "settings = {\n",
    "    'channels': (0, 1, 2),\n",
    "    'settings_estimator': {'pid_estimator': 'TartuPID', 'lags_pid': [0, 0]},\n",
    "    'shuffle': False\n",
    "}"
   ]
  },
  {
   "cell_type": "code",
   "execution_count": null,
   "metadata": {},
   "outputs": [],
   "source": [
    "bivariate_pid_3D(dataOrig, settings)"
   ]
  },
  {
   "cell_type": "markdown",
   "metadata": {},
   "source": [
    "### Multivariate 4D - Explicit"
   ]
  },
  {
   "cell_type": "code",
   "execution_count": null,
   "metadata": {
    "scrolled": true
   },
   "outputs": [],
   "source": [
    "%%time\n",
    "data = Data(dataOrig, 'rps', normalise=False)\n",
    "\n",
    "pid = MultivariatePID()\n",
    "settings_SxPID = {'pid_estimator': 'SxPID', 'lags_pid': [0, 0, 0]}\n",
    "results_SxPID = pid.analyse_single_target(settings=settings_SxPID, data=data, target=3, sources=(0, 1, 2))\n",
    "results_SxPID.get_single_target(3)['avg']"
   ]
  },
  {
   "cell_type": "markdown",
   "metadata": {},
   "source": [
    "### Multivariate 4D - Implicit"
   ]
  },
  {
   "cell_type": "code",
   "execution_count": null,
   "metadata": {},
   "outputs": [],
   "source": [
    "settings = {\n",
    "    'channels': (0, 1, 2, 3),\n",
    "    'settings_estimator': {'pid_estimator': 'SxPID', 'lags_pid': [0, 0, 0]},\n",
    "    'shuffle': False\n",
    "}"
   ]
  },
  {
   "cell_type": "code",
   "execution_count": null,
   "metadata": {
    "scrolled": true
   },
   "outputs": [],
   "source": [
    "%%time\n",
    "multivariate_pid_4D(dataOrig, settings)"
   ]
  },
  {
   "cell_type": "code",
   "execution_count": null,
   "metadata": {},
   "outputs": [],
   "source": [
    "def yolo(data, settings):\n",
    "    dataIDTxl = Data(data, dim_order='rps')\n",
    "    pid = MultivariatePID()\n",
    "    rez = pid.analyse_single_target(settings=settings,\n",
    "                                    data=dataIDTxl, target=3, sources=(0,1,2))\n",
    "\n",
    "    return results_SxPID.get_single_target(3)['avg']"
   ]
  },
  {
   "cell_type": "code",
   "execution_count": null,
   "metadata": {
    "scrolled": true
   },
   "outputs": [],
   "source": [
    "settings = {'pid_estimator': 'SxPID', 'lags_pid': [0, 0, 0]}\n",
    "yolo(dataOrig, settings)"
   ]
  },
  {
   "cell_type": "code",
   "execution_count": null,
   "metadata": {
    "scrolled": true
   },
   "outputs": [],
   "source": [
    "data = Data(dataOrig, 'rps', normalise=False)\n",
    "\n",
    "pid = MultivariatePID()\n",
    "settings_SxPID = {'pid_estimator': 'SxPID', 'lags_pid': [0, 0, 0]}\n",
    "results_SxPID = pid.analyse_single_target(settings=settings_SxPID, data=data, target=3, sources=(0, 1, 2))\n",
    "results_SxPID.get_single_target(3)['avg']"
   ]
  },
  {
   "cell_type": "code",
   "execution_count": null,
   "metadata": {},
   "outputs": [],
   "source": []
  }
 ],
 "metadata": {
  "kernelspec": {
   "display_name": "py3ml",
   "language": "python",
   "name": "py3ml"
  },
  "language_info": {
   "codemirror_mode": {
    "name": "ipython",
    "version": 3
   },
   "file_extension": ".py",
   "mimetype": "text/x-python",
   "name": "python",
   "nbconvert_exporter": "python",
   "pygments_lexer": "ipython3",
   "version": "3.8.5"
  }
 },
 "nbformat": 4,
 "nbformat_minor": 2
}
