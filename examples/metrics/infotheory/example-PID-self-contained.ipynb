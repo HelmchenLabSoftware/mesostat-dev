{
 "cells": [
  {
   "cell_type": "code",
   "execution_count": 1,
   "metadata": {},
   "outputs": [],
   "source": [
    "# Import classes\n",
    "import numpy as np\n",
    "from idtxl.multivariate_pid import MultivariatePID\n",
    "from idtxl.data import Data"
   ]
  },
  {
   "cell_type": "code",
   "execution_count": 16,
   "metadata": {},
   "outputs": [
    {
     "name": "stdout",
     "output_type": "stream",
     "text": [
      "now = 2020-10-14 14:36:06.714719\n",
      "date and time = 14/10/2020 14:36:06\n"
     ]
    }
   ],
   "source": [
    "from datetime import datetime\n",
    "\n",
    "# datetime object containing current date and time\n",
    "now = datetime.now()\n",
    " \n",
    "print(\"now =\", now)\n",
    "\n",
    "# dd/mm/YY H:M:S\n",
    "dt_string = now.strftime(\"%d/%m/%Y %H:%M:%S\")\n",
    "print(\"date and time =\", dt_string)\t"
   ]
  },
  {
   "cell_type": "code",
   "execution_count": 12,
   "metadata": {},
   "outputs": [
    {
     "name": "stdout",
     "output_type": "stream",
     "text": [
      "Adding data with properties: 3 processes, 100 samples, 1 replications\n",
      "overwriting existing data\n"
     ]
    },
    {
     "ename": "TypeError",
     "evalue": "Input s1 (source 1) must be an integer numpy array.",
     "output_type": "error",
     "traceback": [
      "\u001b[0;31m---------------------------------------------------------------------------\u001b[0m",
      "\u001b[0;31mTypeError\u001b[0m                                 Traceback (most recent call last)",
      "\u001b[0;32m<ipython-input-12-5d9d44a64798>\u001b[0m in \u001b[0;36m<module>\u001b[0;34m()\u001b[0m\n\u001b[1;32m     12\u001b[0m \u001b[0;34m\u001b[0m\u001b[0m\n\u001b[1;32m     13\u001b[0m \u001b[0;31m# c) Run Goettingen estimator\u001b[0m\u001b[0;34m\u001b[0m\u001b[0;34m\u001b[0m\u001b[0m\n\u001b[0;32m---> 14\u001b[0;31m \u001b[0mresults_SxPID\u001b[0m \u001b[0;34m=\u001b[0m \u001b[0mpid\u001b[0m\u001b[0;34m.\u001b[0m\u001b[0manalyse_single_target\u001b[0m\u001b[0;34m(\u001b[0m\u001b[0msettings\u001b[0m\u001b[0;34m=\u001b[0m\u001b[0msettings_SxPID\u001b[0m\u001b[0;34m,\u001b[0m \u001b[0mdata\u001b[0m\u001b[0;34m=\u001b[0m\u001b[0mdata\u001b[0m\u001b[0;34m,\u001b[0m \u001b[0mtarget\u001b[0m\u001b[0;34m=\u001b[0m\u001b[0;36m2\u001b[0m\u001b[0;34m,\u001b[0m \u001b[0msources\u001b[0m\u001b[0;34m=\u001b[0m\u001b[0;34m[\u001b[0m\u001b[0;36m0\u001b[0m\u001b[0;34m,\u001b[0m \u001b[0;36m1\u001b[0m\u001b[0;34m]\u001b[0m\u001b[0;34m)\u001b[0m\u001b[0;34m\u001b[0m\u001b[0m\n\u001b[0m\u001b[1;32m     15\u001b[0m \u001b[0;34m\u001b[0m\u001b[0m\n\u001b[1;32m     16\u001b[0m \u001b[0;31m# e) Print results to console\u001b[0m\u001b[0;34m\u001b[0m\u001b[0;34m\u001b[0m\u001b[0m\n",
      "\u001b[0;32m~/Downloads/IDTxl/idtxl/multivariate_pid.py\u001b[0m in \u001b[0;36manalyse_single_target\u001b[0;34m(self, settings, data, target, sources)\u001b[0m\n\u001b[1;32m    198\u001b[0m \u001b[0;34m\u001b[0m\u001b[0m\n\u001b[1;32m    199\u001b[0m         \u001b[0;31m# Estimate PID and significance.\u001b[0m\u001b[0;34m\u001b[0m\u001b[0;34m\u001b[0m\u001b[0m\n\u001b[0;32m--> 200\u001b[0;31m         \u001b[0mself\u001b[0m\u001b[0;34m.\u001b[0m\u001b[0m_calculate_pid\u001b[0m\u001b[0;34m(\u001b[0m\u001b[0mdata\u001b[0m\u001b[0;34m)\u001b[0m\u001b[0;34m\u001b[0m\u001b[0m\n\u001b[0m\u001b[1;32m    201\u001b[0m \u001b[0;34m\u001b[0m\u001b[0m\n\u001b[1;32m    202\u001b[0m         \u001b[0;31m# Add analyis info.\u001b[0m\u001b[0;34m\u001b[0m\u001b[0;34m\u001b[0m\u001b[0m\n",
      "\u001b[0;32m~/Downloads/IDTxl/idtxl/multivariate_pid.py\u001b[0m in \u001b[0;36m_calculate_pid\u001b[0;34m(self, data)\u001b[0m\n\u001b[1;32m    281\u001b[0m         orig_pid = self._pid_estimator.estimate(\n\u001b[1;32m    282\u001b[0m                                 \u001b[0ms\u001b[0m\u001b[0;34m=\u001b[0m\u001b[0mlist_sources_var_realisations\u001b[0m\u001b[0;34m,\u001b[0m\u001b[0;34m\u001b[0m\u001b[0m\n\u001b[0;32m--> 283\u001b[0;31m                                 t=target_realisations)\n\u001b[0m\u001b[1;32m    284\u001b[0m \u001b[0;34m\u001b[0m\u001b[0m\n\u001b[1;32m    285\u001b[0m \u001b[0;34m\u001b[0m\u001b[0m\n",
      "\u001b[0;32m~/Downloads/IDTxl/idtxl/estimators_multivariate_pid.py\u001b[0m in \u001b[0;36mestimate\u001b[0;34m(self, s, t)\u001b[0m\n\u001b[1;32m     76\u001b[0m             \u001b[0mavg\u001b[0m \u001b[0mstands\u001b[0m \u001b[0;32mfor\u001b[0m \u001b[0maverage\u001b[0m \u001b[0mdecomposition\u001b[0m\u001b[0;34m\u001b[0m\u001b[0m\n\u001b[1;32m     77\u001b[0m         \"\"\"\n\u001b[0;32m---> 78\u001b[0;31m         \u001b[0ms\u001b[0m\u001b[0;34m,\u001b[0m \u001b[0mt\u001b[0m\u001b[0;34m,\u001b[0m \u001b[0mself\u001b[0m\u001b[0;34m.\u001b[0m\u001b[0msettings\u001b[0m \u001b[0;34m=\u001b[0m \u001b[0m_check_input\u001b[0m\u001b[0;34m(\u001b[0m\u001b[0ms\u001b[0m\u001b[0;34m,\u001b[0m \u001b[0mt\u001b[0m\u001b[0;34m,\u001b[0m \u001b[0mself\u001b[0m\u001b[0;34m.\u001b[0m\u001b[0msettings\u001b[0m\u001b[0;34m)\u001b[0m\u001b[0;34m\u001b[0m\u001b[0m\n\u001b[0m\u001b[1;32m     79\u001b[0m         \u001b[0mpdf\u001b[0m \u001b[0;34m=\u001b[0m \u001b[0m_get_pdf_dict\u001b[0m\u001b[0;34m(\u001b[0m\u001b[0ms\u001b[0m\u001b[0;34m,\u001b[0m \u001b[0mt\u001b[0m\u001b[0;34m)\u001b[0m\u001b[0;34m\u001b[0m\u001b[0m\n\u001b[1;32m     80\u001b[0m \u001b[0;34m\u001b[0m\u001b[0m\n",
      "\u001b[0;32m~/Downloads/IDTxl/idtxl/estimators_multivariate_pid.py\u001b[0m in \u001b[0;36m_check_input\u001b[0;34m(s, t, settings)\u001b[0m\n\u001b[1;32m    166\u001b[0m         \u001b[0;32mif\u001b[0m \u001b[0;32mnot\u001b[0m \u001b[0missubclass\u001b[0m\u001b[0;34m(\u001b[0m\u001b[0ms\u001b[0m\u001b[0;34m[\u001b[0m\u001b[0mi\u001b[0m\u001b[0;34m]\u001b[0m\u001b[0;34m.\u001b[0m\u001b[0mdtype\u001b[0m\u001b[0;34m.\u001b[0m\u001b[0mtype\u001b[0m\u001b[0;34m,\u001b[0m \u001b[0mnp\u001b[0m\u001b[0;34m.\u001b[0m\u001b[0minteger\u001b[0m\u001b[0;34m)\u001b[0m\u001b[0;34m:\u001b[0m\u001b[0;34m\u001b[0m\u001b[0m\n\u001b[1;32m    167\u001b[0m             raise TypeError('Input s{0} (source {0}) must be an integer numpy '\n\u001b[0;32m--> 168\u001b[0;31m                             'array.'.format(i+1))\n\u001b[0m\u001b[1;32m    169\u001b[0m     \u001b[0;31m# ^ for\u001b[0m\u001b[0;34m\u001b[0m\u001b[0;34m\u001b[0m\u001b[0m\n\u001b[1;32m    170\u001b[0m     \u001b[0;32mif\u001b[0m \u001b[0;32mnot\u001b[0m \u001b[0missubclass\u001b[0m\u001b[0;34m(\u001b[0m\u001b[0mt\u001b[0m\u001b[0;34m.\u001b[0m\u001b[0mdtype\u001b[0m\u001b[0;34m.\u001b[0m\u001b[0mtype\u001b[0m\u001b[0;34m,\u001b[0m \u001b[0mnp\u001b[0m\u001b[0;34m.\u001b[0m\u001b[0minteger\u001b[0m\u001b[0;34m)\u001b[0m\u001b[0;34m:\u001b[0m\u001b[0;34m\u001b[0m\u001b[0m\n",
      "\u001b[0;31mTypeError\u001b[0m: Input s1 (source 1) must be an integer numpy array."
     ]
    }
   ],
   "source": [
    "# a) Generate test data\n",
    "n = 100\n",
    "alph = 2\n",
    "x = np.random.normal(0, 1, n)\n",
    "y = np.random.normal(0, 1, n)\n",
    "z = x * y\n",
    "\n",
    "data = Data(np.vstack((x, y, z)), 'ps', normalise=False)\n",
    "\n",
    "# b) Initialise analysis object and define settings for SxPID estimators\n",
    "pid = MultivariatePID()\n",
    "settings_SxPID = {'pid_estimator': 'SxPID', 'lags_pid': [0, 0]}\n",
    "\n",
    "# c) Run Goettingen estimator\n",
    "results_SxPID = pid.analyse_single_target(settings=settings_SxPID, data=data, target=2, sources=[0, 1])\n",
    "\n",
    "# e) Print results to console\n",
    "print('\\nLogical XOR')\n",
    "print('Estimator            SxPID\\t\\tExpected\\n')\n",
    "print('Uni s1               {0:.4f}\\t\\t{1:.4f}'.format(\n",
    "    results_SxPID.get_single_target(2)['avg'][((1,),)][2],\n",
    "    .5896))\n",
    "print('Uni s2               {0:.4f}\\t\\t{1:.4f}'.format(\n",
    "    results_SxPID.get_single_target(2)['avg'][((2,),)][2],\n",
    "    0.5896))\n",
    "print('Shared s1_s2         {0:.4f}\\t\\t{1:.4f}'.format(\n",
    "    results_SxPID.get_single_target(2)['avg'][((1,),(2,),)][2],\n",
    "    -0.5896))\n",
    "print('Synergy s1_s2        {0:.4f}\\t\\t{1:.4f}'.format(\n",
    "    results_SxPID.get_single_target(2)['avg'][((1,2,),)][2],\n",
    "    0.415))"
   ]
  },
  {
   "cell_type": "code",
   "execution_count": 8,
   "metadata": {},
   "outputs": [
    {
     "name": "stdout",
     "output_type": "stream",
     "text": [
      "Adding data with properties: 3 processes, 100 samples, 1 replications\n",
      "overwriting existing data\n",
      "\n",
      "Logical XOR\n",
      "Estimator            SxPID\t\tExpected\n",
      "\n",
      "Uni s1               0.5608\t\t0.5896\n",
      "Uni s2               0.5654\t\t0.5896\n",
      "Shared s1_s2         -0.5595\t\t-0.5896\n",
      "Synergy s1_s2        0.4043\t\t0.4150\n"
     ]
    }
   ],
   "source": [
    "# a) Generate test data\n",
    "n = 100\n",
    "alph = 2\n",
    "x = np.random.randint(0, alph, n)\n",
    "y = np.random.randint(0, alph, n)\n",
    "z = np.logical_xor(x, y).astype(int)\n",
    "data = Data(np.vstack((x, y, z)), 'ps', normalise=False)\n",
    "\n",
    "# b) Initialise analysis object and define settings for SxPID estimators\n",
    "pid = MultivariatePID()\n",
    "settings_SxPID = {'pid_estimator': 'SxPID', 'lags_pid': [0, 0]}\n",
    "\n",
    "# c) Run Goettingen estimator\n",
    "results_SxPID = pid.analyse_single_target(settings=settings_SxPID, data=data, target=2, sources=[0, 1])\n",
    "\n",
    "# e) Print results to console\n",
    "print('\\nLogical XOR')\n",
    "print('Estimator            SxPID\\t\\tExpected\\n')\n",
    "print('Uni s1               {0:.4f}\\t\\t{1:.4f}'.format(\n",
    "    results_SxPID.get_single_target(2)['avg'][((1,),)][2],\n",
    "    .5896))\n",
    "print('Uni s2               {0:.4f}\\t\\t{1:.4f}'.format(\n",
    "    results_SxPID.get_single_target(2)['avg'][((2,),)][2],\n",
    "    0.5896))\n",
    "print('Shared s1_s2         {0:.4f}\\t\\t{1:.4f}'.format(\n",
    "    results_SxPID.get_single_target(2)['avg'][((1,),(2,),)][2],\n",
    "    -0.5896))\n",
    "print('Synergy s1_s2        {0:.4f}\\t\\t{1:.4f}'.format(\n",
    "    results_SxPID.get_single_target(2)['avg'][((1,2,),)][2],\n",
    "    0.415))"
   ]
  },
  {
   "cell_type": "code",
   "execution_count": 11,
   "metadata": {},
   "outputs": [
    {
     "data": {
      "text/plain": [
       "{'avg': {((1,),): (0.5607617223195451, 0.0, 0.5607617223195451),\n",
       "  ((1,), (2,)): (0.43201273166826315, 0.991561016240436, -0.5595482845721728),\n",
       "  ((1, 2),): (0.4043482998078197, 0.0, 0.4043482998078197),\n",
       "  ((2,),): (0.5653888568994765, 0.0, 0.5653888568994765)},\n",
       " 'current_value': (2, 0),\n",
       " 'ptw': {(0, 0, 0): {((1,),): (0.5525410230287786, 0.0, 0.5525410230287786),\n",
       "   ((1,), (2,)): (0.5994620704162714, 1.2064508774674265, -0.6069888070511551),\n",
       "   ((1, 2),): (0.30160811050776637, 0.0, 0.30160811050776637),\n",
       "   ((2,),): (0.489805267680816, 0.0, 0.489805267680816)},\n",
       "  (0, 1, 1): {((1,),): (0.8119276518474283, 0.0, 0.8119276518474283),\n",
       "   ((1,), (2,)): (0.3400754415976217, 1.0740005814437767, -0.733925139846155),\n",
       "   ((1, 2),): (0.6680652892721853, 0.0, 0.6680652892721853),\n",
       "   ((2,),): (0.5758602936139038, 0.0, 0.5758602936139038)},\n",
       "  (1, 0, 1): {((1,),): (0.558490289359965, 0.0, 0.558490289359965),\n",
       "   ((1,), (2,)): (0.3040061868900999, 0.9296106721086022, -0.6256044852185023),\n",
       "   ((1, 2),): (0.6037811395389121, 0.0, 0.6037811395389121),\n",
       "   ((2,),): (0.7852611512069876, 0.0, 0.7852611512069876)},\n",
       "  (1, 1, 0): {((1,),): (0.42809365210429007, 0.0, 0.42809365210429007),\n",
       "   ((1,), (2,)): (0.4344028241457749,\n",
       "    0.8194277543581793,\n",
       "    -0.38502493021240436),\n",
       "   ((1, 2),): (0.2123639612085697, 0.0, 0.2123639612085697),\n",
       "   ((2,),): (0.4815329110657506, 0.0, 0.4815329110657506)}},\n",
       " 'selected_vars_sources': [(0, 0), (1, 0)],\n",
       " 'source_1': [(0, 0)],\n",
       " 'source_2': [(1, 0)]}"
      ]
     },
     "execution_count": 11,
     "metadata": {},
     "output_type": "execute_result"
    }
   ],
   "source": [
    "results_SxPID.get_single_target(2)"
   ]
  },
  {
   "cell_type": "code",
   "execution_count": 5,
   "metadata": {},
   "outputs": [
    {
     "name": "stdout",
     "output_type": "stream",
     "text": [
      "Adding data with properties: 3 processes, 4 samples, 1 replications\n",
      "overwriting existing data\n",
      "\n",
      "Logical PwUnq\n",
      "Estimator            SxPID\t\tExpected\n",
      "\n",
      "Uni s1               0.5000\t\t0.5\n",
      "Uni s2               0.5000\t\t0.5\n",
      "Shared s1_s2         0.0000\t\t0.0\n",
      "Synergy s1_s2        0.0000\t\t0.0\n"
     ]
    }
   ],
   "source": [
    "# Some special Examples\n",
    "\n",
    "# Pointwise Unique\n",
    "x = np.asarray([0, 1, 0, 2])\n",
    "y = np.asarray([1, 0, 2, 0])\n",
    "z = np.asarray([1, 1, 2, 2])\n",
    "data = Data(np.vstack((x, y, z)), 'ps', normalise=False)\n",
    "\n",
    "pid = MultivariatePID()\n",
    "settings_SxPID = {'pid_estimator': 'SxPID', 'lags_pid': [0, 0]}\n",
    "\n",
    "results_SxPID = pid.analyse_single_target(\n",
    "    settings=settings_SxPID, data=data, target=2, sources=[0, 1])\n",
    "\n",
    "print('\\nLogical PwUnq')\n",
    "print('Estimator            SxPID\\t\\tExpected\\n')\n",
    "print('Uni s1               {0:.4f}\\t\\t{1:.1f}'.format(\n",
    "    results_SxPID.get_single_target(2)['avg'][((1,),)][2],\n",
    "    .5))\n",
    "print('Uni s2               {0:.4f}\\t\\t{1:.1f}'.format(\n",
    "    results_SxPID.get_single_target(2)['avg'][((2,),)][2],\n",
    "    0.5))\n",
    "print('Shared s1_s2         {0:.4f}\\t\\t{1:.1f}'.format(\n",
    "    results_SxPID.get_single_target(2)['avg'][((1,),(2,),)][2],\n",
    "    0.))\n",
    "print('Synergy s1_s2        {0:.4f}\\t\\t{1:.1f}'.format(\n",
    "    results_SxPID.get_single_target(2)['avg'][((1,2,),)][2],\n",
    "    0.))"
   ]
  },
  {
   "cell_type": "code",
   "execution_count": 6,
   "metadata": {},
   "outputs": [
    {
     "name": "stdout",
     "output_type": "stream",
     "text": [
      "Adding data with properties: 3 processes, 8 samples, 1 replications\n",
      "overwriting existing data\n",
      "\n",
      "Logical RndErr\n",
      "Estimator            SxPID\t\tExpected\n",
      "\n",
      "Uni s1               0.4433\t\t0.4433\n",
      "Uni s2               -0.3680\t\t-0.3680\n",
      "Shared s1_s2         0.5567\t\t0.5567\n",
      "Synergy s1_s2        0.3680\t\t0.3680\n"
     ]
    }
   ],
   "source": [
    "# Redundancy Error\n",
    "x = np.asarray([0, 0, 0, 1, 1, 1, 0, 1])\n",
    "y = np.asarray([0, 0, 0, 1, 1, 1, 1, 0])\n",
    "z = np.asarray([0, 0, 0, 1, 1, 1, 0, 1])\n",
    "data = Data(np.vstack((x, y, z)), 'ps', normalise=False)\n",
    "\n",
    "pid = MultivariatePID()\n",
    "settings_SxPID = {'pid_estimator': 'SxPID', 'lags_pid': [0, 0]}\n",
    "\n",
    "results_SxPID = pid.analyse_single_target(\n",
    "    settings=settings_SxPID, data=data, target=2, sources=[0, 1])\n",
    "\n",
    "print('\\nLogical RndErr')\n",
    "print('Estimator            SxPID\\t\\tExpected\\n')\n",
    "print('Uni s1               {0:.4f}\\t\\t{1:.4f}'.format(\n",
    "    results_SxPID.get_single_target(2)['avg'][((1,),)][2],\n",
    "    .4433))\n",
    "print('Uni s2               {0:.4f}\\t\\t{1:.4f}'.format(\n",
    "    results_SxPID.get_single_target(2)['avg'][((2,),)][2],\n",
    "    -0.368))\n",
    "print('Shared s1_s2         {0:.4f}\\t\\t{1:.4f}'.format(\n",
    "    results_SxPID.get_single_target(2)['avg'][((1,),(2,),)][2],\n",
    "    0.5567))\n",
    "print('Synergy s1_s2        {0:.4f}\\t\\t{1:.4f}'.format(\n",
    "    results_SxPID.get_single_target(2)['avg'][((1,2,),)][2],\n",
    "    0.368))"
   ]
  },
  {
   "cell_type": "code",
   "execution_count": 7,
   "metadata": {},
   "outputs": [
    {
     "name": "stdout",
     "output_type": "stream",
     "text": [
      "Adding data with properties: 4 processes, 8 samples, 1 replications\n",
      "overwriting existing data\n",
      "\n",
      "Logical PwUnq\n",
      "Estimator                                                SxPID\t\tExpected\n",
      "\n",
      "Uni s1                                                   0.3219\t\t0.3219\n",
      "Uni s2                                                   0.3219\t\t0.3219\n",
      "Uni s3                                                   0.3219\t\t0.3219\n",
      "Synergy s1_s2_s3                                         0.2451\t\t0.2451\n",
      "Synergy s1_s2                                            0.1699\t\t0.1699\n",
      "Synergy s1_s3                                            0.1699\t\t0.1699\n",
      "Synergy s2_s3                                            0.1699\t\t0.1699\n",
      "Shared s1_s2_s3                                          0.1926\t\t0.1926\n",
      "Shared of (s1, s2)                                       -0.1926\t\t-0.1926\n",
      "Shared of (s1, s2)                                       -0.1926\t\t-0.1926\n",
      "Shared of (s2, s3)                                       -0.1926\t\t-0.1926\n",
      "Shared of (Synergy s1_s2, Synergy s1_s3)                 0.0931\t\t0.0931\n",
      "Shared of (Synergy s1_s2, Synergy s2_s3)                 0.0931\t\t0.0931\n",
      "Shared of (Synergy s1_s3, Synergy s2_s3)                 0.0931\t\t0.0931\n",
      "Shared of (Synergy s1_s2, Synergy s1_s3, Synergy s2_s3)  -0.2269\t\t-0.2268\n",
      "Shared of (s1, Synergy s2_s3)                            -0.1293\t\t-0.1292\n",
      "Shared of (s2, Synergy s1_s3)                            -0.1293\t\t-0.1292\n",
      "Shared of (s3, Synergy s1_s2)                            -0.1293\t\t-0.1292\n"
     ]
    }
   ],
   "source": [
    "# Three bits hash\n",
    "s1 = np.asarray([0, 0, 0, 0, 1, 1, 1, 1])\n",
    "s2 = np.asarray([0, 0, 1, 1, 0, 0, 1, 1])\n",
    "s3 = np.asarray([0, 1, 0, 1, 0, 1, 0, 1])\n",
    "z  = np.asarray([0, 1, 1, 0, 1, 0, 0, 1])\n",
    "data = Data(np.vstack((s1, s2, s3, z)), 'ps', normalise=False)\n",
    "\n",
    "pid = MultivariatePID()\n",
    "settings_SxPID = {'pid_estimator': 'SxPID', 'lags_pid': [0, 0, 0]}\n",
    "\n",
    "results_SxPID = pid.analyse_single_target(\n",
    "    settings=settings_SxPID, data=data, target=3, sources=[0, 1, 2])\n",
    "\n",
    "print('\\nLogical PwUnq')\n",
    "print('Estimator                                                SxPID\\t\\tExpected\\n')\n",
    "print('Uni s1                                                   {0:.4f}\\t\\t{1:.4f}'.format(\n",
    "    results_SxPID.get_single_target(3)['avg'][((1,),)][2], 0.3219))\n",
    "print('Uni s2                                                   {0:.4f}\\t\\t{1:.4f}'.format(\n",
    "    results_SxPID.get_single_target(3)['avg'][((2,),)][2], 0.3219))\n",
    "print('Uni s3                                                   {0:.4f}\\t\\t{1:.4f}'.format(\n",
    "    results_SxPID.get_single_target(3)['avg'][((3,),)][2], 0.3219))\n",
    "print('Synergy s1_s2_s3                                         {0:.4f}\\t\\t{1:.4f}'.format(\n",
    "    results_SxPID.get_single_target(3)['avg'][((1,2,3),)][2], 0.2451))\n",
    "print('Synergy s1_s2                                            {0:.4f}\\t\\t{1:.4f}'.format(\n",
    "    results_SxPID.get_single_target(3)['avg'][((1,2,),)][2], 0.1699))\n",
    "print('Synergy s1_s3                                            {0:.4f}\\t\\t{1:.4f}'.format(\n",
    "    results_SxPID.get_single_target(3)['avg'][((1,3,),)][2], 0.1699))\n",
    "print('Synergy s2_s3                                            {0:.4f}\\t\\t{1:.4f}'.format(\n",
    "    results_SxPID.get_single_target(3)['avg'][((2,3,),)][2], 0.1699))\n",
    "print('Shared s1_s2_s3                                          {0:.4f}\\t\\t{1:.4f}'.format(\n",
    "    results_SxPID.get_single_target(3)['avg'][((1,),(2,),(3,),)][2], 0.1926))\n",
    "print('Shared of (s1, s2)                                       {0:.4f}\\t\\t{1:.4f}'.format(\n",
    "    results_SxPID.get_single_target(3)['avg'][((1,), (2,),)][2], -0.1926))\n",
    "print('Shared of (s1, s2)                                       {0:.4f}\\t\\t{1:.4f}'.format(\n",
    "    results_SxPID.get_single_target(3)['avg'][((1,), (3,),)][2], -0.1926))\n",
    "print('Shared of (s2, s3)                                       {0:.4f}\\t\\t{1:.4f}'.format(\n",
    "    results_SxPID.get_single_target(3)['avg'][((2,), (3,),)][2], -0.1926))\n",
    "print('Shared of (Synergy s1_s2, Synergy s1_s3)                 {0:.4f}\\t\\t{1:.4f}'.format(\n",
    "    results_SxPID.get_single_target(3)['avg'][((1,2,), (1,3),)][2], 0.0931))\n",
    "print('Shared of (Synergy s1_s2, Synergy s2_s3)                 {0:.4f}\\t\\t{1:.4f}'.format(\n",
    "    results_SxPID.get_single_target(3)['avg'][((1,2,), (2,3),)][2], 0.0931))\n",
    "print('Shared of (Synergy s1_s3, Synergy s2_s3)                 {0:.4f}\\t\\t{1:.4f}'.format(\n",
    "    results_SxPID.get_single_target(3)['avg'][((1,3,), (2,3),)][2], 0.0931))\n",
    "print('Shared of (Synergy s1_s2, Synergy s1_s3, Synergy s2_s3)  {0:.4f}\\t\\t{1:.4f}'.format(\n",
    "    results_SxPID.get_single_target(3)['avg'][((1,2,), (1,3), (2,3),)][2], -0.2268))\n",
    "print('Shared of (s1, Synergy s2_s3)                            {0:.4f}\\t\\t{1:.4f}'.format(\n",
    "    results_SxPID.get_single_target(3)['avg'][((1,), (2,3),)][2], -0.1292))\n",
    "print('Shared of (s2, Synergy s1_s3)                            {0:.4f}\\t\\t{1:.4f}'.format(\n",
    "    results_SxPID.get_single_target(3)['avg'][((2,), (1,3),)][2], -0.1292))\n",
    "print('Shared of (s3, Synergy s1_s2)                            {0:.4f}\\t\\t{1:.4f}'.format(\n",
    "    results_SxPID.get_single_target(3)['avg'][((3,), (1,2),)][2], -0.1292))"
   ]
  },
  {
   "cell_type": "code",
   "execution_count": null,
   "metadata": {
    "collapsed": true
   },
   "outputs": [],
   "source": []
  }
 ],
 "metadata": {
  "kernelspec": {
   "display_name": "Python (py36qt5)",
   "language": "python",
   "name": "py36qt5"
  },
  "language_info": {
   "codemirror_mode": {
    "name": "ipython",
    "version": 3
   },
   "file_extension": ".py",
   "mimetype": "text/x-python",
   "name": "python",
   "nbconvert_exporter": "python",
   "pygments_lexer": "ipython3",
   "version": "3.6.4"
  }
 },
 "nbformat": 4,
 "nbformat_minor": 2
}
