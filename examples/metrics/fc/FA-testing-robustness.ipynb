{
 "cells": [
  {
   "cell_type": "code",
   "execution_count": 22,
   "metadata": {
    "collapsed": true
   },
   "outputs": [],
   "source": [
    "import numpy as np\n",
    "from scipy.stats import ortho_group\n",
    "from scipy.optimize import minimize"
   ]
  },
  {
   "cell_type": "code",
   "execution_count": 14,
   "metadata": {
    "collapsed": true
   },
   "outputs": [],
   "source": [
    "def make_random_covariance_matrix(nDim):\n",
    "    R = ortho_group.rvs(nDim)\n",
    "    e = np.diag(np.random.uniform(1,5, nDim))\n",
    "    return R.dot(e.dot(R.T))\n",
    "\n",
    "def pack_param(W, psi):\n",
    "    return np.hstack([W.flatten(), psi])\n",
    "\n",
    "def unpack_param(x, p, m):\n",
    "    pm = p*m\n",
    "    return x[:pm].reshape((p, m)), x[pm:]\n",
    "\n",
    "def loss_function_FA(C, W, psi):\n",
    "    return np.linalg.norm(C - W.dot(W.T) - np.diag(psi))"
   ]
  },
  {
   "cell_type": "code",
   "execution_count": 107,
   "metadata": {
    "collapsed": true
   },
   "outputs": [],
   "source": [
    "p = 10\n",
    "m = 2\n",
    "Cov = make_random_covariance_matrix(p)\n",
    "\n",
    "loss_wrapper = lambda x: loss_function_FA(Cov, *unpack_param(x, p, m))"
   ]
  },
  {
   "cell_type": "code",
   "execution_count": 113,
   "metadata": {},
   "outputs": [
    {
     "name": "stdout",
     "output_type": "stream",
     "text": [
      "True ; 2.968088609864562 ; Optimization terminated successfully.\n"
     ]
    },
    {
     "data": {
      "text/plain": [
       "array([3.97210469e+00, 3.94141547e+00, 3.60995196e+00, 3.29724335e+00,\n",
       "       3.25007623e+00, 3.16714365e+00, 2.88917861e+00, 2.69940198e+00,\n",
       "       4.19641104e-18, 0.00000000e+00])"
      ]
     },
     "execution_count": 113,
     "metadata": {},
     "output_type": "execute_result"
    }
   ],
   "source": [
    "W0 = np.random.uniform(1, 2, (p, m))\n",
    "psi0 = np.random.uniform(0, 1, p)\n",
    "x0 = pack_param(W0, psi0)\n",
    "\n",
    "boundsX = [(None, None)] * (p * m) + [(0, None)] * p\n",
    "\n",
    "rez = minimize(loss_wrapper, x0, method = 'SLSQP', bounds=boundsX, options={'maxiter' : 1000})\n",
    "print(rez.success, ';', rez.fun, ';', rez.message)\n",
    "W, psi = unpack_param(rez.x, p, m)\n",
    "np.sort(psi)[::-1]"
   ]
  },
  {
   "cell_type": "code",
   "execution_count": null,
   "metadata": {
    "collapsed": true
   },
   "outputs": [],
   "source": []
  }
 ],
 "metadata": {
  "kernelspec": {
   "display_name": "Python (py36qt5)",
   "language": "python",
   "name": "py36qt5"
  },
  "language_info": {
   "codemirror_mode": {
    "name": "ipython",
    "version": 3
   },
   "file_extension": ".py",
   "mimetype": "text/x-python",
   "name": "python",
   "nbconvert_exporter": "python",
   "pygments_lexer": "ipython3",
   "version": "3.6.4"
  }
 },
 "nbformat": 4,
 "nbformat_minor": 2
}
